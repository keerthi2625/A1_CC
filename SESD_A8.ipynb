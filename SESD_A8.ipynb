{
  "nbformat": 4,
  "nbformat_minor": 0,
  "metadata": {
    "colab": {
      "provenance": [],
      "include_colab_link": true
    },
    "kernelspec": {
      "name": "python3",
      "display_name": "Python 3"
    },
    "language_info": {
      "name": "python"
    }
  },
  "cells": [
    {
      "cell_type": "markdown",
      "metadata": {
        "id": "view-in-github",
        "colab_type": "text"
      },
      "source": [
        "<a href=\"https://colab.research.google.com/github/keerthi2625/A1_CC/blob/main/SESD_A8.ipynb\" target=\"_parent\"><img src=\"https://colab.research.google.com/assets/colab-badge.svg\" alt=\"Open In Colab\"/></a>"
      ]
    },
    {
      "cell_type": "code",
      "execution_count": null,
      "metadata": {
        "id": "xXtcH38dPdPt"
      },
      "outputs": [],
      "source": [
        "# Student Grading System using OOP\n",
        "\n",
        "class Course:\n",
        "    def __init__(self, course_code, course_name, credits):\n",
        "        self.course_code = course_code\n",
        "        self.course_name = course_name\n",
        "        self.credits = credits\n",
        "\n",
        "\n",
        "class Grade:\n",
        "    # Mapping letter grades to grade points\n",
        "    GRADE_POINTS = {\n",
        "        \"A\": 4.0,\n",
        "        \"B\": 3.0,\n",
        "        \"C\": 2.0,\n",
        "        \"D\": 1.0,\n",
        "        \"F\": 0.0\n",
        "    }\n",
        "\n",
        "    def __init__(self, course, grade_value):\n",
        "        self.course = course\n",
        "        if grade_value not in Grade.GRADE_POINTS:\n",
        "            raise ValueError(f\"Invalid grade '{grade_value}'. Must be A, B, C, D, or F.\")\n",
        "        self.grade_value = grade_value\n",
        "\n",
        "    def get_grade_point(self):\n",
        "        return Grade.GRADE_POINTS[self.grade_value]\n",
        "\n",
        "\n",
        "class Student:\n",
        "    def __init__(self, name, student_id):\n",
        "        self.name = name\n",
        "        self.student_id = student_id\n",
        "        self.courses = []  # list of Grade objects\n",
        "\n",
        "    def enroll(self, grade_obj):\n",
        "        self.courses.append(grade_obj)\n",
        "\n",
        "    def calculate_gpa(self):\n",
        "        if not self.courses:\n",
        "            return 0.0\n",
        "        total_points = 0\n",
        "        total_credits = 0\n",
        "        for grade in self.courses:\n",
        "            total_points += grade.get_grade_point() * grade.course.credits\n",
        "            total_credits += grade.course.credits\n",
        "        return round(total_points / total_credits, 2)\n",
        "\n",
        "    def get_transcript(self):\n",
        "        transcript = f\"Transcript for {self.name} (ID: {self.student_id})\\n\"\n",
        "        for grade in self.courses:\n",
        "            transcript += f\"{grade.course.course_code} - {grade.course.course_name}: {grade.grade_value}\\n\"\n",
        "        transcript += f\"GPA: {self.calculate_gpa()}\"\n",
        "        return transcript\n"
      ]
    },
    {
      "cell_type": "code",
      "source": [
        "# Example of system usage\n",
        "c1 = Course(\"C101\", \"Math\", 3)\n",
        "c2 = Course(\"C102\", \"Science\", 4)\n",
        "\n",
        "s = Student(\"Alice\", \"S001\")\n",
        "s.enroll(Grade(c1, \"A\"))\n",
        "s.enroll(Grade(c2, \"B\"))\n",
        "\n",
        "print(s.get_transcript())\n"
      ],
      "metadata": {
        "colab": {
          "base_uri": "https://localhost:8080/"
        },
        "id": "xSeSOgJEPzdu",
        "outputId": "945ead0a-b63d-459b-9199-4558fdd22236"
      },
      "execution_count": null,
      "outputs": [
        {
          "output_type": "stream",
          "name": "stdout",
          "text": [
            "Transcript for Alice (ID: S001)\n",
            "C101 - Math: A\n",
            "C102 - Science: B\n",
            "GPA: 3.43\n"
          ]
        }
      ]
    },
    {
      "cell_type": "code",
      "source": [
        "import unittest\n",
        "\n",
        "class TestStudentSystem(unittest.TestCase):\n",
        "    def test_gpa_calculation(self):\n",
        "        s = Student(\"Alice\", \"S001\")\n",
        "        c1 = Course(\"C101\", \"Math\", 3)\n",
        "        c2 = Course(\"C102\", \"Science\", 4)\n",
        "        s.enroll(Grade(c1, \"A\"))\n",
        "        s.enroll(Grade(c2, \"B\"))\n",
        "        self.assertAlmostEqual(s.calculate_gpa(), 3.43, places=2)\n",
        "\n",
        "    def test_invalid_grade(self):\n",
        "        s = Student(\"Bob\", \"S002\")\n",
        "        c = Course(\"C103\", \"History\", 3)\n",
        "        with self.assertRaises(ValueError):\n",
        "            s.enroll(Grade(c, \"Z\"))  # Invalid grade\n",
        "\n",
        "    def test_no_courses(self):\n",
        "        s = Student(\"Charlie\", \"S003\")\n",
        "        self.assertEqual(s.calculate_gpa(), 0.0)\n",
        "\n",
        "\n",
        "# Run the tests inside Jupyter\n",
        "unittest.main(argv=[''], exit=False)\n"
      ],
      "metadata": {
        "colab": {
          "base_uri": "https://localhost:8080/"
        },
        "id": "OsEMWcb7P4F-",
        "outputId": "0556fd62-d979-4f0a-e0df-e7f7b705ebc3"
      },
      "execution_count": null,
      "outputs": [
        {
          "output_type": "stream",
          "name": "stderr",
          "text": [
            "...\n",
            "----------------------------------------------------------------------\n",
            "Ran 3 tests in 0.002s\n",
            "\n",
            "OK\n"
          ]
        },
        {
          "output_type": "execute_result",
          "data": {
            "text/plain": [
              "<unittest.main.TestProgram at 0x7e3c8bb28530>"
            ]
          },
          "metadata": {},
          "execution_count": 4
        }
      ]
    }
  ]
}